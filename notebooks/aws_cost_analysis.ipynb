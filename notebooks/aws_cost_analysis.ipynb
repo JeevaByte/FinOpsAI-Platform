{
 "cells": [
  {
   "cell_type": "markdown",
   "metadata": {},
   "source": [
    "# AWS Cost Analysis\n",
    "\n",
    "This notebook demonstrates how to analyze AWS cost data using the CloudCostAI platform."
   ]
  },
  {
   "cell_type": "code",
   "execution_count": null,
   "metadata": {},
   "source": [
    "import sys\n",
    "import os\n",
    "import pandas as pd\n",
    "import matplotlib.pyplot as plt\n",
    "import seaborn as sns\n",
    "\n",
    "# Add project root to path\n",
    "sys.path.append('..')\n",
    "\n",
    "# Import our modules\n",
    "from src.collectors.aws import AWSCostCollector\n",
    "from src.utils.helpers import generate_date_range"
   ]
  },
  {
   "cell_type": "markdown",
   "metadata": {},
   "source": [
    "## Load Sample Data\n",
    "\n",
    "For demonstration purposes, we'll load sample data from a CSV file."
   ]
  },
  {
   "cell_type": "code",
   "execution_count": null,
   "metadata": {},
   "source": [
    "# Load sample data\n",
    "df = pd.read_csv('../data/sample_billing_data.csv')\n",
    "\n",
    "# Filter for AWS data only\n",
    "aws_df = df[df['provider'] == 'AWS'].copy()\n",
    "\n",
    "# Convert date to datetime\n",
    "aws_df['date'] = pd.to_datetime(aws_df['date'])\n",
    "\n",
    "# Display the first few rows\n",
    "aws_df.head()"
   ]
  },
  {
   "cell_type": "markdown",
   "metadata": {},
   "source": [
    "## Analyze Cost Trends"
   ]
  },
  {
   "cell_type": "code",
   "execution_count": null,
   "metadata": {},
   "source": [
    "# Group by date and service\n",
    "service_costs = aws_df.pivot_table(index='date', columns='service', values='amount', aggfunc='sum')\n",
    "\n",
    "# Plot service costs over time\n",
    "plt.figure(figsize=(12, 6))\n",
    "service_costs.plot(kind='bar', stacked=True, ax=plt.gca())\n",
    "plt.title('AWS Costs by Service Over Time')\n",
    "plt.xlabel('Date')\n",
    "plt.ylabel('Cost (USD)')\n",
    "plt.xticks(rotation=45)\n",
    "plt.legend(title='Service')\n",
    "plt.tight_layout()\n",
    "plt.show()"
   ]
  },
  {
   "cell_type": "markdown",
   "metadata": {},
   "source": [
    "## Service Cost Distribution"
   ]
  },
  {
   "cell_type": "code",
   "execution_count": null,
   "metadata": {},
   "source": [
    "# Calculate total cost by service\n",
    "service_totals = aws_df.groupby('service')['amount'].sum().sort_values(ascending=False)\n",
    "\n",
    "# Plot pie chart\n",
    "plt.figure(figsize=(10, 8))\n",
    "plt.pie(service_totals, labels=service_totals.index, autopct='%1.1f%%', startangle=90)\n",
    "plt.axis('equal')  # Equal aspect ratio ensures that pie is drawn as a circle\n",
    "plt.title('AWS Cost Distribution by Service')\n",
    "plt.show()"
   ]
  },
  {
   "cell_type": "markdown",
   "metadata": {},
   "source": [
    "## Monthly Cost Growth"
   ]
  },
  {
   "cell_type": "code",
   "execution_count": null,
   "metadata": {},
   "source": [
    "# Calculate monthly totals\n",
    "monthly_totals = aws_df.groupby(pd.Grouper(key='date', freq='M'))['amount'].sum()\n",
    "\n",
    "# Calculate month-over-month growth\n",
    "monthly_growth = monthly_totals.pct_change() * 100\n",
    "\n",
    "# Plot monthly growth\n",
    "plt.figure(figsize=(12, 6))\n",
    "monthly_growth.plot(kind='bar', color=monthly_growth.map(lambda x: 'green' if x < 0 else 'red'))\n",
    "plt.title('AWS Month-over-Month Cost Growth (%)')\n",
    "plt.xlabel('Month')\n",
    "plt.ylabel('Growth (%)')\n",
    "plt.axhline(y=0, color='black', linestyle='-', alpha=0.3)\n",
    "plt.grid(axis='y', alpha=0.3)\n",
    "plt.xticks(rotation=45)\n",
    "plt.tight_layout()\n",
    "plt.show()"
   ]
  },
  {
   "cell_type": "markdown",
   "metadata": {},
   "source": [
    "## Using the AWS Cost Collector\n",
    "\n",
    "In a real scenario, you would use the AWSCostCollector to fetch actual data from AWS Cost Explorer API."
   ]
  },
  {
   "cell_type": "code",
   "execution_count": null,
   "metadata": {},
   "source": [
    "# Initialize the collector\n",
    "# Note: This requires proper AWS credentials to be configured\n",
    "collector = AWSCostCollector()\n",
    "\n",
    "# Get dates for the last 3 months\n",
    "start_date, end_date = generate_date_range(3)\n",
    "\n",
    "# Uncomment to fetch actual AWS cost data\n",
    "# actual_aws_data = collector.get_cost_and_usage(start_date, end_date)\n",
    "# actual_aws_data.head()"
   ]
  },
  {
   "cell_type": "markdown",
   "metadata": {},
   "source": [
    "## Idle Resource Analysis"
   ]
  },
  {
   "cell_type": "code",
   "execution_count": null,
   "metadata": {},
   "source": [
    "# Get idle resources\n",
    "idle_resources = collector.get_idle_resources()\n",
    "\n",
    "# Display idle resources\n",
    "idle_resources"
   ]
  },
  {
   "cell_type": "markdown",
   "metadata": {},
   "source": [
    "## Conclusion\n",
    "\n",
    "This notebook demonstrates basic AWS cost analysis using the CloudCostAI platform. In a real-world scenario, you would:\n",
    "\n",
    "1. Connect to actual AWS Cost Explorer API\n",
    "2. Analyze trends over longer periods\n",
    "3. Identify cost optimization opportunities\n",
    "4. Generate actionable recommendations"
   ]
  }
 ],
 "metadata": {
  "kernelspec": {
   "display_name": "Python 3",
   "language": "python",
   "name": "python3"
  },
  "language_info": {
   "codemirror_mode": {
    "name": "ipython",
    "version": 3
   },
   "file_extension": ".py",
   "mimetype": "text/x-python",
   "name": "python",
   "nbconvert_exporter": "python",
   "pygments_lexer": "ipython3",
   "version": "3.8.10"
  }
 },
 "nbformat": 4,
 "nbformat_minor": 4
}